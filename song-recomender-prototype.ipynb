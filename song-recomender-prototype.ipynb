{
 "cells": [
  {
   "cell_type": "code",
   "execution_count": 3,
   "metadata": {},
   "outputs": [],
   "source": [
    "#Importing the libraries\n",
    "import numpy as np\n",
    "import pandas as pd"
   ]
  },
  {
   "cell_type": "code",
   "execution_count": 5,
   "metadata": {},
   "outputs": [],
   "source": [
    "#Reading the datasets\n",
    "billboard = pd.read_csv(r'files\\billboard_hot_100.csv')\n",
    "rolling_500 = pd.read_csv(r'files\\rolling_stone_top_500.csv')\n",
    "rolling_heavy = pd.read_csv(r'files\\rolling_stone_heavy_metal.csv')"
   ]
  },
  {
   "cell_type": "code",
   "execution_count": 25,
   "metadata": {},
   "outputs": [],
   "source": [
    "#Creating a function to check if, taking a user input, the song is in the billboard dataset and if it is, recomend another song from the dataset\n",
    "#If not, ask if they like metal, if so, recommend a song from the heavy metal dataset.\n",
    "#If not, recommend a song from the rolling stone top 500 dataset.\n",
    "#It is important to note that users may input the song in any case, as the function will convert it to lowercase.\n",
    "\n",
    "def song_recommender():\n",
    "    #Getting the input from the user and converting it to lowercase and title case\n",
    "    song = input('What song do you like? ')\n",
    "    song = song.lower()\n",
    "    song = song.title()\n",
    "    #Checking if the song is in the billboard dataset\n",
    "    if song in billboard['Song'].values:\n",
    "        print('Great choice! You might also like: ')\n",
    "        print(billboard.sample())\n",
    "    #If the song is not in the billboard dataset, ask if they like heavy metal\n",
    "    else:\n",
    "        metal = input('Do you like heavy metal? ')\n",
    "        metal = metal.lower()\n",
    "        #If the user likes metal, recommend a song from the heavy metal dataset\n",
    "        if metal == 'yes':\n",
    "            print('You might like: ')\n",
    "            print(rolling_heavy.sample())\n",
    "        #If the user does not like metal, recommend a song from the rolling stone top 500 dataset\n",
    "        else:\n",
    "            print('You might like: ')\n",
    "            print(rolling_500.sample())"
   ]
  },
  {
   "cell_type": "code",
   "execution_count": 26,
   "metadata": {},
   "outputs": [
    {
     "name": "stdout",
     "output_type": "stream",
     "text": [
      "You might like: \n",
      "            Song          Artist\n",
      "9  Pull Me Under   Dream Theater\n"
     ]
    }
   ],
   "source": [
    "#Testing the function\n",
    "song_recommender()"
   ]
  }
 ],
 "metadata": {
  "kernelspec": {
   "display_name": "base",
   "language": "python",
   "name": "python3"
  },
  "language_info": {
   "codemirror_mode": {
    "name": "ipython",
    "version": 3
   },
   "file_extension": ".py",
   "mimetype": "text/x-python",
   "name": "python",
   "nbconvert_exporter": "python",
   "pygments_lexer": "ipython3",
   "version": "3.11.5"
  }
 },
 "nbformat": 4,
 "nbformat_minor": 2
}
